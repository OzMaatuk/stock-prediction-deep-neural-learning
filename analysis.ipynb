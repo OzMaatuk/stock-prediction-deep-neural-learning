{
 "cells": [
  {
   "cell_type": "markdown",
   "metadata": {},
   "source": [
    "### Analyze Stock Trading\n",
    "Using historical data with one day / one min interval"
   ]
  },
  {
   "cell_type": "code",
   "execution_count": null,
   "metadata": {},
   "outputs": [],
   "source": [
    "import pandas as pd"
   ]
  },
  {
   "cell_type": "code",
   "execution_count": null,
   "metadata": {},
   "outputs": [],
   "source": [
    "def print_trades(trades):\n",
    "    # Print the trades in a readable format\n",
    "    print(\"The trades were made at these times:\")\n",
    "    for i, trade in enumerate(trades, start=1):\n",
    "        print(f'Trade {i}, Bought at {trade[0]}, sold at {trade[1]}, profit is {trade[2]}')"
   ]
  },
  {
   "cell_type": "code",
   "execution_count": null,
   "metadata": {},
   "outputs": [],
   "source": [
    "# Set source data file\n",
    "# file='data/day/GOOG/data.csv'\n",
    "file='data/min/GOOG/data.csv'\n",
    "\n",
    "# Read the CSV data from a file\n",
    "df = pd.read_csv(file)"
   ]
  },
  {
   "cell_type": "code",
   "execution_count": null,
   "metadata": {},
   "outputs": [],
   "source": [
    "# Use the 'close' column for the stock prices\n",
    "prices = df['Close']\n",
    "\n",
    "# Get the timestamps\n",
    "timestamps = pd.to_datetime(df['Datetime'])"
   ]
  },
  {
   "cell_type": "markdown",
   "metadata": {},
   "source": [
    "##### Max Profit Unlimited Trades"
   ]
  },
  {
   "cell_type": "code",
   "execution_count": null,
   "metadata": {},
   "outputs": [],
   "source": [
    "def max_profit(prices, timestamps):\n",
    "    max_profit = 0\n",
    "    trades = []\n",
    "    num_trades = 0\n",
    "\n",
    "    for i in range(1, len(prices)):\n",
    "        if prices.iloc[i] > prices.iloc[i-1]:\n",
    "            profit = prices.iloc[i] - prices.iloc[i-1]\n",
    "            max_profit += profit\n",
    "            trades.append([timestamps[i-1], timestamps[i], profit])\n",
    "            num_trades += 1\n",
    "\n",
    "    return max_profit, trades, num_trades"
   ]
  },
  {
   "cell_type": "code",
   "execution_count": null,
   "metadata": {},
   "outputs": [],
   "source": [
    "# Calculate the maximum profit for day trading\n",
    "profit_day_trading, trades, num_trades = max_profit(prices, timestamps)"
   ]
  },
  {
   "cell_type": "code",
   "execution_count": null,
   "metadata": {},
   "outputs": [],
   "source": [
    "print(f'The maximum profit from day trading is: {profit_day_trading}')\n",
    "print(f'The total number of trades is: {num_trades}')\n",
    "print_trades(trades)"
   ]
  },
  {
   "cell_type": "markdown",
   "metadata": {},
   "source": [
    "##### Max Profit Single Trasaction\n",
    "TBD"
   ]
  },
  {
   "cell_type": "code",
   "execution_count": null,
   "metadata": {},
   "outputs": [],
   "source": [
    "# def max_profit_single_transaction(prices):\n",
    "#     min_price = min(prices)\n",
    "#     max_price = max(prices)\n",
    "#     # TODO: Not considering the order.\n",
    "#     return max_price - min_price\n",
    "\n",
    "# # Calculate the maximum profit for a single buy-sell operation\n",
    "# profit_single_transaction = max_profit_single_transaction(prices)\n",
    "# print(f'The maximum profit from a single buy-sell operation is: {profit_single_transaction}')"
   ]
  },
  {
   "cell_type": "markdown",
   "metadata": {},
   "source": [
    "##### Max Profit Predefined number of Trades"
   ]
  },
  {
   "cell_type": "code",
   "execution_count": null,
   "metadata": {},
   "outputs": [],
   "source": [
    "def load_trade_data(data):\n",
    "  trade_list = [\n",
    "    data[0],\n",
    "    data[1],\n",
    "    data[2]\n",
    "  ]\n",
    "  return trade_list\n",
    "\n",
    "def get_top_n(data, N):\n",
    "  tmp = []\n",
    "  for line in data:\n",
    "    tmp.append(load_trade_data(line))\n",
    "  df = pd.DataFrame(tmp, columns=[\"Buy\", \"Sell\", \"Profit\"])\n",
    "  df = df.sort_values(by=\"Profit\", ascending=False)\n",
    "  return df\n"
   ]
  },
  {
   "cell_type": "code",
   "execution_count": null,
   "metadata": {},
   "outputs": [],
   "source": [
    "max_trades = 10\n",
    "trades_limited = get_top_n(trades, max_trades)\n",
    "trades_limited = trades_limited.head(max_trades)\n",
    "profit_limited_trades = trades_limited[\"Profit\"].sum()"
   ]
  },
  {
   "cell_type": "code",
   "execution_count": null,
   "metadata": {},
   "outputs": [],
   "source": [
    "print(f'The maximum profit with {max_trades} trades is: {profit_limited_trades}')\n",
    "trades_limited"
   ]
  },
  {
   "cell_type": "markdown",
   "metadata": {},
   "source": [
    "#### Comparing"
   ]
  },
  {
   "cell_type": "code",
   "execution_count": null,
   "metadata": {},
   "outputs": [],
   "source": [
    "# Set source data file\n",
    "# file='data/day/GOOG/data.csv'\n",
    "file='data/min/GOOG/data.csv'\n",
    "\n",
    "# Read the CSV data from a file\n",
    "df = pd.read_csv(file)"
   ]
  },
  {
   "cell_type": "code",
   "execution_count": null,
   "metadata": {},
   "outputs": [],
   "source": [
    "# Convert the 'Datetime' column to datetime\n",
    "df['Datetime'] = pd.to_datetime(df['Datetime'])\n",
    "\n",
    "# Set 'Datetime' column as the index\n",
    "df.set_index('Datetime', inplace=True)\n",
    "\n",
    "# Group by month\n",
    "# grouped = df.groupby(pd.Grouper(freq='ME'))\n",
    "\n",
    "# Group by day\n",
    "grouped = df.groupby(pd.Grouper(freq='D'))"
   ]
  },
  {
   "cell_type": "code",
   "execution_count": null,
   "metadata": {},
   "outputs": [],
   "source": [
    "# Save each group to a separate CSV file\n",
    "for name, group in grouped:\n",
    "    # date_str = name.strftime('%Y-%m')\n",
    "    date_str = name.strftime('%Y-%m-%d')\n",
    "    # group.to_csv(f'{date_str}.csv')\n",
    "\n",
    "    print()\n",
    "    print(\"----------------------------------------------------------------\")\n",
    "    print(date_str)\n",
    "    print()\n",
    "    \n",
    "    prices = group['Close']\n",
    "    timestamps = group.index\n",
    "\n",
    "    # Calculate the maximum profit for day trading\n",
    "    profit_day_trading, trades, num_trades = max_profit(prices, timestamps)\n",
    "    print(f'The maximum profit from day trading is: {profit_day_trading}')\n",
    "    print(f'The total number of trades is: {num_trades}')\n",
    "    # print_trades(trades)\n",
    "\n",
    "    max_trades = 10\n",
    "    trades_limited = get_top_n(trades, max_trades)\n",
    "    trades_limited = trades_limited.head(max_trades)\n",
    "    profit_limited_trades = trades_limited[\"Profit\"].sum()\n",
    "    print(f'The maximum profit with {max_trades} trades is: {profit_limited_trades}')\n",
    "    print(trades_limited)"
   ]
  },
  {
   "cell_type": "code",
   "execution_count": null,
   "metadata": {},
   "outputs": [],
   "source": [
    "# TODO: Results are not aggregated and each min considered as individual transaction. need to make in sequencial."
   ]
  },
  {
   "cell_type": "code",
   "execution_count": null,
   "metadata": {},
   "outputs": [],
   "source": []
  }
 ],
 "metadata": {
  "kernelspec": {
   "display_name": "base",
   "language": "python",
   "name": "python3"
  },
  "language_info": {
   "codemirror_mode": {
    "name": "ipython",
    "version": 3
   },
   "file_extension": ".py",
   "mimetype": "text/x-python",
   "name": "python",
   "nbconvert_exporter": "python",
   "pygments_lexer": "ipython3",
   "version": "3.11.0"
  }
 },
 "nbformat": 4,
 "nbformat_minor": 2
}
