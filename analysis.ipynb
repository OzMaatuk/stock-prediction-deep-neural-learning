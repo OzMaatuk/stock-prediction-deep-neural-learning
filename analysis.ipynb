{
 "cells": [
  {
   "cell_type": "markdown",
   "metadata": {},
   "source": [
    "### Analyze Stock Trading\n",
    "Using historical data with one day / one min interval"
   ]
  },
  {
   "cell_type": "code",
   "execution_count": null,
   "metadata": {},
   "outputs": [],
   "source": [
    "import pandas as pd"
   ]
  },
  {
   "cell_type": "code",
   "execution_count": null,
   "metadata": {},
   "outputs": [],
   "source": [
    "def print_trades(trades):\n",
    "    # Print the trades in a readable format\n",
    "    print(\"The trades were made at these times:\")\n",
    "    for i, trade in enumerate(trades, start=1):\n",
    "        print(f'Trade {i}, Bought at {trade[0]}, sold at {trade[1]}, profit is {trade[2]}')"
   ]
  },
  {
   "cell_type": "code",
   "execution_count": null,
   "metadata": {},
   "outputs": [],
   "source": [
    "# Set source data file\n",
    "file='data/day/GOOG/data.csv'\n",
    "# file='data/min/GOOG/data copy.csv'\n",
    "\n",
    "# Read the CSV data from a file\n",
    "df = pd.read_csv(file)"
   ]
  },
  {
   "cell_type": "code",
   "execution_count": null,
   "metadata": {},
   "outputs": [],
   "source": [
    "# Use the 'close' column for the stock prices\n",
    "prices = df['Close']\n",
    "\n",
    "# Get the timestamps\n",
    "timestamps = pd.to_datetime(df['Datetime'])"
   ]
  },
  {
   "cell_type": "markdown",
   "metadata": {},
   "source": [
    "##### Max Profit Unlimited Trades"
   ]
  },
  {
   "cell_type": "code",
   "execution_count": null,
   "metadata": {},
   "outputs": [],
   "source": [
    "import pandas as pd\n",
    "from typing import List, Tuple\n",
    "\n",
    "def find_increasing_sequences(prices: pd.Series, timestamps: pd.Series) -> List[Tuple[str, float, str, float, float]]:\n",
    "    \"\"\"\n",
    "    Find all increasing sequences in stock prices.\n",
    "    \n",
    "    Parameters:\n",
    "    prices (pd.Series): Series of stock closing prices.\n",
    "    timestamps (pd.Series): Series of timestamps corresponding to the prices.\n",
    "    \n",
    "    Returns:\n",
    "    List[Tuple[str, float, str, float, float]]: List of increasing sequences, each represented by a tuple \n",
    "    containing the start time, start value, end time, end value, and value difference, with timestamps formatted as strings.\n",
    "    \"\"\"\n",
    "    \n",
    "    # List to store the sequences\n",
    "    sequences = []\n",
    "    \n",
    "    # Variables to track the start of the current sequence\n",
    "    start_idx = None\n",
    "    start_value = None\n",
    "    \n",
    "    for i in range(1, len(prices)):\n",
    "        if prices.iloc[i] > prices.iloc[i - 1]:\n",
    "            if start_idx is None:\n",
    "                start_idx = i - 1\n",
    "                start_value = prices.iloc[i - 1]\n",
    "        else:\n",
    "            if start_idx is not None:\n",
    "                sequences.append((\n",
    "                    timestamps[start_idx].strftime('%Y-%m-%d %H:%M:%S'),\n",
    "                    float(start_value),\n",
    "                    timestamps[i - 1].strftime('%Y-%m-%d %H:%M:%S'),\n",
    "                    float(prices.iloc[i - 1]),\n",
    "                    float(prices.iloc[i - 1] - start_value)\n",
    "                ))\n",
    "                start_idx = None\n",
    "                start_value = None\n",
    "    \n",
    "    # Check if there is a sequence that ends at the last element\n",
    "    if start_idx is not None:\n",
    "        sequences.append((\n",
    "            timestamps[start_idx].strftime('%Y-%m-%d %H:%M:%S'),\n",
    "            float(start_value),\n",
    "            timestamps[len(prices) - 1].strftime('%Y-%m-%d %H:%M:%S'),\n",
    "            float(prices.iloc[len(prices) - 1]),\n",
    "            float(prices.iloc[len(prices) - 1] - start_value)\n",
    "        ))\n",
    "    \n",
    "    # Sort sequences by the value difference in descending order\n",
    "    sorted_sequences = sorted(sequences, key=lambda row: row[4], reverse=True)\n",
    "    \n",
    "    return sorted_sequences\n"
   ]
  },
  {
   "cell_type": "code",
   "execution_count": null,
   "metadata": {},
   "outputs": [],
   "source": [
    "# Calculate the maximum profit for day trading\n",
    "sequences = find_increasing_sequences(prices, timestamps)"
   ]
  },
  {
   "cell_type": "code",
   "execution_count": null,
   "metadata": {},
   "outputs": [],
   "source": [
    "print(f'The maximum profit from day trading is: {sequences[0][4]}')\n",
    "print(f'The total number of trades is: {len(sequences)}')\n",
    "for seq in sequences:\n",
    "    print(seq)"
   ]
  },
  {
   "cell_type": "markdown",
   "metadata": {},
   "source": [
    "##### Max Profit Predefined number of Trades"
   ]
  },
  {
   "cell_type": "code",
   "execution_count": null,
   "metadata": {},
   "outputs": [],
   "source": [
    "max_trades = 10\n",
    "trades_limited = sequences[:max_trades]\n",
    "profit_limited_trades = sum(row[4] for row in trades_limited)"
   ]
  },
  {
   "cell_type": "code",
   "execution_count": null,
   "metadata": {},
   "outputs": [],
   "source": [
    "print(f'The maximum profit with {max_trades} trades is: {profit_limited_trades}')\n",
    "for trade in trades_limited:\n",
    "    print(trade)"
   ]
  },
  {
   "cell_type": "markdown",
   "metadata": {},
   "source": [
    "#### Comparing"
   ]
  },
  {
   "cell_type": "code",
   "execution_count": null,
   "metadata": {},
   "outputs": [],
   "source": [
    "# Set source data file\n",
    "file='data/day/GOOG/data.csv'\n",
    "# file='data/min/GOOG/data copy.csv'\n",
    "\n",
    "# Read the CSV data from a file\n",
    "df = pd.read_csv(file)"
   ]
  },
  {
   "cell_type": "code",
   "execution_count": null,
   "metadata": {},
   "outputs": [],
   "source": [
    "# Convert the 'Datetime' column to datetime\n",
    "df['Datetime'] = pd.to_datetime(df['Datetime'])\n",
    "\n",
    "# Set 'Datetime' column as the index\n",
    "df.set_index('Datetime', inplace=True)\n",
    "\n",
    "# Group by month\n",
    "grouped = df.groupby(pd.Grouper(freq='ME'))\n",
    "\n",
    "# Group by day\n",
    "# grouped = df.groupby(pd.Grouper(freq='D'))"
   ]
  },
  {
   "cell_type": "code",
   "execution_count": null,
   "metadata": {},
   "outputs": [],
   "source": [
    "# Save each group to a separate CSV file\n",
    "for name, group in grouped:\n",
    "    # date_str = name.strftime('%Y-%m')\n",
    "    date_str = name.strftime('%Y-%m-%d')\n",
    "    # group.to_csv(f'{date_str}.csv')\n",
    "\n",
    "    print()\n",
    "    print(\"----------------------------------------------------------------\")\n",
    "    print(date_str)\n",
    "    print()\n",
    "    \n",
    "    prices = group['Close']\n",
    "    timestamps = group.index\n",
    "\n",
    "    # Calculate the maximum profit for day trading\n",
    "    sequences = find_increasing_sequences(prices, timestamps)\n",
    "    total_num_of_trades = len(sequences)\n",
    "    print(f'The total number of trades is: {total_num_of_trades}')\n",
    "    if total_num_of_trades > 0:\n",
    "        print(f'The maximum profit from day trading is: {sequences[0][4]}')\n",
    "    # print_trades(trades)\n",
    "\n",
    "    max_trades = 10\n",
    "    trades_limited = sequences[:max_trades]\n",
    "    profit_limited_trades = sum(row[4] for row in trades_limited)\n",
    "    print(f'The maximum profit with {total_num_of_trades} trades is: {profit_limited_trades}')\n",
    "    for trade in trades_limited:\n",
    "        print(trade)"
   ]
  }
 ],
 "metadata": {
  "kernelspec": {
   "display_name": "base",
   "language": "python",
   "name": "python3"
  },
  "language_info": {
   "codemirror_mode": {
    "name": "ipython",
    "version": 3
   },
   "file_extension": ".py",
   "mimetype": "text/x-python",
   "name": "python",
   "nbconvert_exporter": "python",
   "pygments_lexer": "ipython3",
   "version": "3.11.0"
  }
 },
 "nbformat": 4,
 "nbformat_minor": 2
}
