{
 "cells": [
  {
   "cell_type": "markdown",
   "metadata": {},
   "source": [
    "# Hyperparameters Tuning"
   ]
  },
  {
   "cell_type": "code",
   "execution_count": null,
   "metadata": {},
   "outputs": [],
   "source": [
    "import os\n",
    "import pandas as pd\n",
    "\n",
    "from scikeras.wrappers import KerasRegressor\n",
    "from sklearn.model_selection import GridSearchCV, RandomizedSearchCV\n",
    "\n",
    "from src.StockDataProcessor import StockDataProcessor\n",
    "from src.LongShortTermMemory import LSTMModel"
   ]
  },
  {
   "cell_type": "code",
   "execution_count": null,
   "metadata": {},
   "outputs": [],
   "source": [
    "# Configuration\n",
    "TIME_STEPS = 60\n",
    "TICKER = \"GOOG\"\n",
    "FOLDER_PREFIX = \"data/day/\"\n",
    "TRAIN_DATA_SPLIT = 0.65"
   ]
  },
  {
   "cell_type": "code",
   "execution_count": null,
   "metadata": {},
   "outputs": [],
   "source": [
    "# --- Data & Folder Setup ---\n",
    "RUN_FOLDER = f\"{FOLDER_PREFIX}{TICKER}/\"\n",
    "WORK_DIR = os.path.abspath(RUN_FOLDER)\n",
    "CSV_FILE = os.path.join(WORK_DIR, 'data.csv')\n",
    "PROJECT_FOLDER = WORK_DIR\n",
    "\n",
    "if not os.path.exists(PROJECT_FOLDER):\n",
    "    os.makedirs(PROJECT_FOLDER)"
   ]
  },
  {
   "cell_type": "code",
   "execution_count": null,
   "metadata": {},
   "outputs": [],
   "source": [
    "# --- Load Data & Determine Dates ---\n",
    "data = pd.read_csv(CSV_FILE, parse_dates=['Datetime'])\n",
    "first_date = data['Datetime'].iloc[0]\n",
    "last_date = data['Datetime'].iloc[-1]\n",
    "\n",
    "total_rows = len(data)\n",
    "validation_date_index = int(total_rows * TRAIN_DATA_SPLIT)\n",
    "validation_date = data['Datetime'].iloc[validation_date_index]"
   ]
  },
  {
   "cell_type": "code",
   "execution_count": null,
   "metadata": {},
   "outputs": [],
   "source": [
    "# DATE_FORMAT = \"%Y-%m-%d\"\n",
    "# .strftime(DATE_FORMAT)\n",
    "print('Ticker: ' + TICKER)\n",
    "print('Start Date: ' + first_date.__str__())\n",
    "print('Validation Date: ' + validation_date.__str__())\n",
    "print('End Date: ' + last_date.__str__())\n",
    "print('Test Run Folder: ' + RUN_FOLDER)"
   ]
  },
  {
   "cell_type": "code",
   "execution_count": null,
   "metadata": {},
   "outputs": [],
   "source": [
    "(x_train, y_train), (x_test, y_test), (training_data, test_data) = StockDataProcessor.load_csv_transform_to_numpy(TIME_STEPS, CSV_FILE, validation_date)"
   ]
  },
  {
   "cell_type": "code",
   "execution_count": null,
   "metadata": {},
   "outputs": [],
   "source": [
    "lstm = LSTMModel(x_train.shape, 1, 1, PROJECT_FOLDER)"
   ]
  },
  {
   "cell_type": "code",
   "execution_count": null,
   "metadata": {},
   "outputs": [],
   "source": [
    "# Define the parameter grid for the search\n",
    "param_grid = {\n",
    "    'model__units': [50, 100, 150, 200],\n",
    "    'model__dropout': [0.1, 0.2, 0.3], # should be < 0.4 as in model creation it multiples by 2.5 and suppose to be < 1.0 \n",
    "    'model__activation': ['relu', 'tanh', 'sigmoid'],\n",
    "    'model__optimizer': ['adam', 'rmsprop', 'sgd'],\n",
    "    # 'model__batch_size': [5, 10, 20, 40],\n",
    "    # 'model__epochs': [50, 100, 150]\n",
    "}\n",
    "\n",
    "# TODO: how to tune epochs and batch_size if they are not part of model creation?"
   ]
  },
  {
   "cell_type": "code",
   "execution_count": null,
   "metadata": {},
   "outputs": [],
   "source": [
    "# Create the KerasRegressor\n",
    "model = KerasRegressor(model=LSTMModel.create, verbose=0)"
   ]
  },
  {
   "cell_type": "code",
   "execution_count": null,
   "metadata": {},
   "outputs": [],
   "source": [
    "# Create the GridSearchCV object\n",
    "# grid = GridSearchCV(estimator=model, param_grid=param_grid, cv=3, n_jobs=1)  # Use GridSearchCV\n",
    "# OR\n",
    "grid = RandomizedSearchCV(estimator=model, param_distributions=param_grid, cv=3, n_jobs=1)  # Use RandomizedSearchCV\n"
   ]
  },
  {
   "cell_type": "code",
   "execution_count": null,
   "metadata": {},
   "outputs": [],
   "source": [
    "# Fit the GridSearchCV to the data\n",
    "grid_result = grid.fit(x_train, y_train)"
   ]
  },
  {
   "cell_type": "code",
   "execution_count": null,
   "metadata": {},
   "outputs": [],
   "source": [
    "print(\"Best: %f using %s\" % (grid_result.best_score_, grid_result.best_params_))\n",
    "means = grid_result.cv_results_['mean_test_score']\n",
    "stds = grid_result.cv_results_['std_test_score']\n",
    "params = grid_result.cv_results_['params']\n",
    "for mean, stdev, param in zip(means, stds, params):\n",
    "    print(\"%f (%f) with: %r\" % (mean, stdev, param))"
   ]
  },
  {
   "cell_type": "code",
   "execution_count": null,
   "metadata": {},
   "outputs": [],
   "source": [
    "# Use the best parameters to create a model for final evaluation\n",
    "# best_params = grid_result.best_params_\n",
    "# best_model = create_model(**best_params)  # Use the best parameters to create the model\n",
    "# best_model.fit(x_train, y_train, epochs=best_params['epochs'], batch_size=best_params['batch_size'])"
   ]
  },
  {
   "cell_type": "code",
   "execution_count": null,
   "metadata": {},
   "outputs": [],
   "source": [
    "# Save hyperparameter tuning results\n",
    "results_df = pd.DataFrame(grid_result.cv_results_)\n",
    "results_df.to_csv(os.path.join(PROJECT_FOLDER, 'hyperparameter_tuning_results.csv'), index=False)"
   ]
  },
  {
   "cell_type": "markdown",
   "metadata": {},
   "source": [
    "# Results"
   ]
  },
  {
   "cell_type": "markdown",
   "metadata": {},
   "source": [
    "**Random first run:**\n",
    "Best: -0.624649 using {'model__units': 150, 'model__optimizer': 'rmsprop', 'model__dropout': 0.2, 'model__activation': 'tanh'}\n",
    "\n",
    "**Grid first run:**\n",
    "Best: 0.417636 using {'model__activation': 'relu', 'model__dropout': 0.2, 'model__optimizer': 'rmsprop', 'model__units': 50}"
   ]
  }
 ],
 "metadata": {
  "kernelspec": {
   "display_name": "Python 3",
   "language": "python",
   "name": "python3"
  },
  "language_info": {
   "codemirror_mode": {
    "name": "ipython",
    "version": 3
   },
   "file_extension": ".py",
   "mimetype": "text/x-python",
   "name": "python",
   "nbconvert_exporter": "python",
   "pygments_lexer": "ipython3",
   "version": "3.11.0rc1"
  }
 },
 "nbformat": 4,
 "nbformat_minor": 2
}
