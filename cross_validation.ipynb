{
 "cells": [
  {
   "cell_type": "markdown",
   "metadata": {},
   "source": [
    "# Cross Validation"
   ]
  },
  {
   "cell_type": "code",
   "execution_count": null,
   "metadata": {},
   "outputs": [],
   "source": [
    "import os\n",
    "import numpy as np\n",
    "import pandas as pd\n",
    "\n",
    "from sklearn.model_selection import TimeSeriesSplit\n",
    "from tensorflow.keras.metrics import MeanSquaredError, RootMeanSquaredError, MeanAbsoluteError\n",
    "from src.LongShortTermMemory import LSTMModel\n",
    "\n",
    "from src.StockDataProcessor import StockDataProcessor\n",
    "from src.LongShortTermMemory import LSTMModel"
   ]
  },
  {
   "cell_type": "code",
   "execution_count": null,
   "metadata": {},
   "outputs": [],
   "source": [
    "class CrossValidator:\n",
    "    \"\"\"\n",
    "    Performs time series cross-validation for LSTM models.\n",
    "    \"\"\"\n",
    "\n",
    "    def __init__(self, n_splits=5):\n",
    "        \"\"\"\n",
    "        Initializes the cross-validator.\n",
    "\n",
    "        Args:\n",
    "            n_splits: The number of splits for cross-validation.\n",
    "        \"\"\"\n",
    "        self.n_splits = n_splits\n",
    "        self.tscv = TimeSeriesSplit(n_splits=self.n_splits)\n",
    "\n",
    "    def cross_val_score(self, model_creator, x_data, y_data, epochs=50, batch_size=32):\n",
    "        \"\"\"\n",
    "        Performs cross-validation and returns the evaluation scores.\n",
    "\n",
    "        Args:\n",
    "            model_creator: A function that returns a compiled Keras model.\n",
    "            X_data: The preprocessed input data (sequences) for the model.\n",
    "            y_data: The preprocessed target data for the model. \n",
    "            epochs: The number of epochs for training.\n",
    "            batch_size: The batch size for training.\n",
    "\n",
    "        Returns:\n",
    "            list: A list of dictionaries containing evaluation metrics for each fold.\n",
    "        \"\"\"\n",
    "        all_scores = []\n",
    "\n",
    "        for fold, (train_index, test_index) in enumerate(self.tscv.split(x_data)):\n",
    "            print(f\"Fold: {fold + 1}\")\n",
    "\n",
    "            # --- Data Splitting for This Fold --- \n",
    "            X_train, X_test = x_data[train_index], x_data[test_index]\n",
    "            y_train, y_test = y_data[train_index], y_data[test_index]\n",
    "\n",
    "            # --- Model Training and Evaluation ---\n",
    "            model = model_creator()\n",
    "            model.fit(X_train, y_train, epochs=epochs, batch_size=batch_size, verbose=0)\n",
    "            scores = self.evaluate_model(model, X_test, y_test)\n",
    "            all_scores.append(scores)\n",
    "\n",
    "        return all_scores\n",
    "\n",
    "\n",
    "    def evaluate_model(self, model, X_test, y_test):\n",
    "        \"\"\"\n",
    "        Evaluates the model and returns a dictionary of metrics.\n",
    "        \"\"\"\n",
    "        y_pred = model.predict(X_test)\n",
    "        \n",
    "        mse = MeanSquaredError()(y_test, y_pred).numpy()\n",
    "        rmse = RootMeanSquaredError()(y_test, y_pred).numpy() # np.sqrt(mse)  \n",
    "        mae = MeanAbsoluteError()(y_test, y_pred).numpy()\n",
    "\n",
    "        return {'mse': mse, 'rmse': rmse, 'mae': mae}"
   ]
  },
  {
   "cell_type": "code",
   "execution_count": null,
   "metadata": {},
   "outputs": [],
   "source": [
    "# Configureation\n",
    "EPOCHS = 100\n",
    "BATCH_SIZE = 10\n",
    "TIME_STEPS = 60\n",
    "\n",
    "FOLDER_PREFIX = \"data/min/\"\n",
    "TOKEN = \"GOOG\"\n",
    "RUN_FOLDER = f\"{FOLDER_PREFIX}{TOKEN}/\"\n",
    "WORK_DIR = os.path.join(os.getcwd(), RUN_FOLDER)\n",
    "CSV_FILE = f\"{WORK_DIR}data.csv\"\n",
    "\n",
    "PROJECT_FOLDER = os.path.join(os.getcwd(), RUN_FOLDER)\n",
    "if not os.path.exists(PROJECT_FOLDER):\n",
    "    os.makedirs(PROJECT_FOLDER)"
   ]
  },
  {
   "cell_type": "code",
   "execution_count": null,
   "metadata": {},
   "outputs": [],
   "source": [
    "# --- Load Data & Determine Dates ---\n",
    "data = pd.read_csv(CSV_FILE, parse_dates=['Datetime'])\n",
    "\n",
    "total_rows = len(data)\n",
    "validation_date_index = int(total_rows * 0.65)\n",
    "validation_date = data['Datetime'].iloc[validation_date_index]"
   ]
  },
  {
   "cell_type": "code",
   "execution_count": null,
   "metadata": {},
   "outputs": [],
   "source": [
    "# Load data\n",
    "(x_train, y_train), (x_test, y_test), (training_data, test_data) = StockDataProcessor.load_csv_transform_to_numpy(TIME_STEPS, CSV_FILE, validation_date)\n",
    "x_data = np.concatenate((x_train, x_test), axis=0)\n",
    "y_data = np.concatenate((y_train, y_test), axis=0)"
   ]
  },
  {
   "cell_type": "code",
   "execution_count": null,
   "metadata": {},
   "outputs": [],
   "source": [
    "# Initilize model\n",
    "lstm = LSTMModel(x_train.shape, EPOCHS, BATCH_SIZE, PROJECT_FOLDER)"
   ]
  },
  {
   "cell_type": "code",
   "execution_count": null,
   "metadata": {},
   "outputs": [],
   "source": [
    "# Create a CrossValidator instance\n",
    "cross_validator = CrossValidator(n_splits=5)"
   ]
  },
  {
   "cell_type": "code",
   "execution_count": null,
   "metadata": {},
   "outputs": [],
   "source": [
    "# Perform cross-validation (pass raw data and time_steps)\n",
    "all_scores = cross_validator.cross_val_score(\n",
    "    LSTMModel.create, \n",
    "    x_data,\n",
    "    y_data,\n",
    "    epochs=EPOCHS,\n",
    "    batch_size=BATCH_SIZE\n",
    ")"
   ]
  },
  {
   "cell_type": "code",
   "execution_count": null,
   "metadata": {},
   "outputs": [],
   "source": [
    "# Print the results for each fold\n",
    "for fold, scores in enumerate(all_scores):\n",
    "    print(f\"Fold {fold + 1}: MSE={scores['mse']:.4f}, RMSE={scores['rmse']:.4f}, MAE={scores['mae']:.4f}\")\n",
    "\n",
    "# Calculate and print the average scores across all folds\n",
    "average_scores = {metric: np.mean([fold_scores[metric] for fold_scores in all_scores]) for metric in all_scores[0]}\n",
    "print(f\"Average: MSE={average_scores['mse']:.4f}, RMSE={average_scores['rmse']:.4f}, MAE={average_scores['mae']:.4f}\")"
   ]
  }
 ],
 "metadata": {
  "kernelspec": {
   "display_name": "Python 3",
   "language": "python",
   "name": "python3"
  },
  "language_info": {
   "codemirror_mode": {
    "name": "ipython",
    "version": 3
   },
   "file_extension": ".py",
   "mimetype": "text/x-python",
   "name": "python",
   "nbconvert_exporter": "python",
   "pygments_lexer": "ipython3",
   "version": "3.11.0rc1"
  }
 },
 "nbformat": 4,
 "nbformat_minor": 2
}
