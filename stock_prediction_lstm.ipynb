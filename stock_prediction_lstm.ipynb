{
 "cells": [
  {
   "cell_type": "markdown",
   "id": "057ed8f6",
   "metadata": {},
   "source": [
    "## LSTM Network Training"
   ]
  },
  {
   "cell_type": "code",
   "execution_count": null,
   "id": "53a4edc8",
   "metadata": {},
   "outputs": [],
   "source": [
    "import os\n",
    "import warnings\n",
    "import pandas as pd\n",
    "\n",
    "from src.StockDataProcessor import StockDataProcessor\n",
    "from src.LongShortTermMemory import LSTMModel\n",
    "\n",
    "# Suppress TensorFlow warnings\n",
    "os.environ['TF_CPP_MIN_LOG_LEVEL'] = '3'  # or '3' to suppress all messages\n",
    "\n",
    "# Suppress other warnings\n",
    "warnings.filterwarnings(\"ignore\", category=UserWarning, module=\"tensorflow\")\n",
    "\n",
    "from datetime import timedelta"
   ]
  },
  {
   "cell_type": "code",
   "execution_count": null,
   "id": "61f7e07e",
   "metadata": {},
   "outputs": [],
   "source": [
    "# for combined per-day and per-minute interval data\n",
    "# FOLDER_PREFIX = \"data/comb/\"\n",
    "# TIME_STEPS = 60\n",
    "# PREDICTION_RANGE = 60 # *24"
   ]
  },
  {
   "cell_type": "code",
   "execution_count": null,
   "id": "0ca23308",
   "metadata": {},
   "outputs": [],
   "source": [
    "# for per-minute interval data\n",
    "# FOLDER_PREFIX = \"data/min/\"\n",
    "# TIME_STEPS = 60\n",
    "# PREDICTION_RANGE = 60"
   ]
  },
  {
   "cell_type": "code",
   "execution_count": null,
   "id": "5a5ce2c3",
   "metadata": {},
   "outputs": [],
   "source": [
    "# for per-day interval data\n",
    "FOLDER_PREFIX = \"data/day/\"\n",
    "TIME_STEPS = 1\n",
    "PREDICTION_RANGE = 5"
   ]
  },
  {
   "cell_type": "code",
   "execution_count": null,
   "id": "adfc2ded",
   "metadata": {},
   "outputs": [],
   "source": [
    "# import secrets\n",
    "# TODAY_RUN = datetime.today().strftime(DATE_FORMAT)\n",
    "# TOKEN = '_' + TODAY_RUN + '_' + secrets.token_hex(16)\n",
    "TOKEN = \"\""
   ]
  },
  {
   "cell_type": "code",
   "execution_count": null,
   "id": "ce7e8a3a",
   "metadata": {
    "scrolled": false
   },
   "outputs": [],
   "source": [
    "STOCK_TICKER = \"GOOG\"\n",
    "EPOCHS = 100\n",
    "BATCH_SIZE = 10\n",
    "TRAIN_DATA_SPLIT = 0.65\n",
    "RUN_FOLDER = f\"{FOLDER_PREFIX}{STOCK_TICKER}{TOKEN}/\"\n",
    "WORK_DIR = os.path.join(os.getcwd(), RUN_FOLDER)\n",
    "CSV_FILE = f\"{WORK_DIR}data.csv\"\n",
    "\n",
    "PROJECT_FOLDER = os.path.join(os.getcwd(), RUN_FOLDER)\n",
    "if not os.path.exists(PROJECT_FOLDER):\n",
    "    os.makedirs(PROJECT_FOLDER)"
   ]
  },
  {
   "cell_type": "code",
   "execution_count": null,
   "id": "97c104fd",
   "metadata": {},
   "outputs": [],
   "source": [
    "# STOCK_START_DATE = pd.to_datetime(\"2017-06-07\")\n",
    "# STOCK_VALIDATION_DATE = pd.to_datetime(\"2022-06-07\")\n",
    "# STOCK_END_DATE = pd.to_datetime(\"2024-06-07\")\n",
    "\n",
    "data = pd.read_csv(CSV_FILE)\n",
    "first_and_last_rows = data.iloc[[0, -1]]\n",
    "\n",
    "STOCK_START_DATE = pd.to_datetime(first_and_last_rows.iloc[0]['Datetime'])\n",
    "total_number_of_rows = len(data)\n",
    "validation_date_index = int(total_number_of_rows * TRAIN_DATA_SPLIT)\n",
    "\n",
    "STOCK_VALIDATION_DATE = pd.to_datetime(data.iloc[validation_date_index]['Datetime'])\n",
    "STOCK_END_DATE = pd.to_datetime(first_and_last_rows.iloc[1]['Datetime'])"
   ]
  },
  {
   "cell_type": "code",
   "execution_count": null,
   "id": "1af02d88",
   "metadata": {},
   "outputs": [],
   "source": [
    "# DATE_FORMAT = \"%Y-%m-%d\"\n",
    "# .strftime(DATE_FORMAT)\n",
    "print('Ticker: ' + STOCK_TICKER)\n",
    "print('Start Date: ' + STOCK_START_DATE.__str__())\n",
    "print('Validation Date: ' + STOCK_VALIDATION_DATE.__str__())\n",
    "print('End Date: ' + STOCK_END_DATE.__str__())\n",
    "print('Test Run Folder: ' + RUN_FOLDER)"
   ]
  },
  {
   "cell_type": "markdown",
   "id": "a784406e",
   "metadata": {},
   "source": [
    "### Prepare the data for train and test"
   ]
  },
  {
   "cell_type": "code",
   "execution_count": null,
   "id": "66039f2e",
   "metadata": {},
   "outputs": [],
   "source": [
    "(x_train, y_train), (x_test, y_test), (training_data, test_data) = StockDataProcessor.load_csv_transform_to_numpy(TIME_STEPS, CSV_FILE, STOCK_VALIDATION_DATE)"
   ]
  },
  {
   "cell_type": "markdown",
   "id": "06336087",
   "metadata": {},
   "source": [
    "### Train"
   ]
  },
  {
   "cell_type": "code",
   "execution_count": null,
   "id": "4efab5d4",
   "metadata": {},
   "outputs": [],
   "source": [
    "# Initilize model class\n",
    "lstm = LSTMModel(x_train.shape, EPOCHS, BATCH_SIZE, PROJECT_FOLDER)"
   ]
  },
  {
   "cell_type": "code",
   "execution_count": null,
   "id": "e94c18ab",
   "metadata": {},
   "outputs": [],
   "source": [
    "# Execute model training\n",
    "lstm.train(x_train, y_train, x_test, y_test, training_data, test_data)"
   ]
  },
  {
   "cell_type": "markdown",
   "id": "32e586ea",
   "metadata": {},
   "source": [
    "### Prediction"
   ]
  },
  {
   "cell_type": "code",
   "execution_count": null,
   "id": "b787fe91",
   "metadata": {},
   "outputs": [],
   "source": [
    "data = pd.read_csv(CSV_FILE)\n",
    "\n",
    "latest_close_price = data['Close'].iloc[-1]\n",
    "latest_date = data['Datetime'].iloc[-1]\n",
    "\n",
    "print(f\"{latest_close_price}: latest_close_price\")\n",
    "print(f\"{latest_date}: latest_date\")\n",
    "\n",
    "start_date = pd.to_datetime(latest_date) + timedelta(1)\n",
    "end_date = pd.to_datetime(start_date) + timedelta(PREDICTION_RANGE)\n",
    "\n",
    "print(f\"{start_date}: start_date\")\n",
    "print(f\"{end_date}: end_date\")"
   ]
  },
  {
   "cell_type": "code",
   "execution_count": null,
   "id": "9c92b812",
   "metadata": {},
   "outputs": [],
   "source": [
    "lstm.infer(start_date, end_date, latest_close_price, WORK_DIR, TIME_STEPS)"
   ]
  },
  {
   "cell_type": "markdown",
   "id": "3533221c",
   "metadata": {},
   "source": [
    "### Unseen data"
   ]
  },
  {
   "cell_type": "code",
   "execution_count": null,
   "id": "54a457e8",
   "metadata": {},
   "outputs": [],
   "source": [
    "UNSEEN_CSV = f\"{WORK_DIR}unseen.csv\"\n",
    "unseen_data = pd.read_csv(UNSEEN_CSV, index_col=0)\n",
    "\n",
    "latest_close_price = unseen_data['Close'].iloc[-1]\n",
    "latest_date = unseen_data['Datetime'].iloc[-1]\n",
    "first_date = unseen_data['Datetime'].iloc[0]\n",
    "\n",
    "print(f\"{latest_close_price}: latest_close_price\")\n",
    "print(f\"{latest_date}: latest_date\")\n",
    "print(f\"{first_date}: first_date\")\n",
    "\n",
    "start_date = pd.to_datetime(first_date)\n",
    "end_date = pd.to_datetime(latest_date)\n",
    "\n",
    "print(f\"{start_date}: start_date\")\n",
    "print(f\"{end_date}: end_date\")"
   ]
  },
  {
   "cell_type": "code",
   "execution_count": null,
   "id": "72ac8620",
   "metadata": {},
   "outputs": [],
   "source": [
    "import tensorflow as tf\n",
    "from src.StockDataVisualizer import StockDataVisualizer\n",
    "\n",
    "if unseen_data.shape[0] > 0:\n",
    "\n",
    "    unseen_data.drop(columns=[\"Open\", \"High\", \"Low\", \"Adj Close\", \"Volume\"], errors='ignore', inplace=True)\n",
    "    unseen_data.reset_index(drop=True, inplace=True)\n",
    "    unseen_data.set_index('Datetime', inplace=True)\n",
    "\n",
    "    model_path = os.path.join(PROJECT_FOLDER, 'model_weights.keras')\n",
    "    model = tf.keras.models.load_model(model_path)\n",
    "    model.summary()\n",
    "\n",
    "    dates_range = end_date - start_date\n",
    "    dates_range = dates_range.days + 1\n",
    "    sample_data = x_test[-1*dates_range:]\n",
    "\n",
    "    predicted_data = model.predict(sample_data)\n",
    "    predicted_data = StockDataProcessor.min_max.inverse_transform(predicted_data)\n",
    "    predicted_data = pd.DataFrame(predicted_data, columns=['Predicted'])\n",
    "\n",
    "    predicted_data['Datetime'] = unseen_data.index\n",
    "    predicted_data.reset_index(drop=True, inplace=True)\n",
    "    predicted_data.set_index('Datetime', inplace=True)\n",
    "\n",
    "    # Plotting predictions\n",
    "    StockDataVisualizer.plot_future(unseen_data, predicted_data, PROJECT_FOLDER)"
   ]
  }
 ],
 "metadata": {
  "kernelspec": {
   "display_name": "Python 3 (ipykernel)",
   "language": "python",
   "name": "python3"
  },
  "language_info": {
   "codemirror_mode": {
    "name": "ipython",
    "version": 3
   },
   "file_extension": ".py",
   "mimetype": "text/x-python",
   "name": "python",
   "nbconvert_exporter": "python",
   "pygments_lexer": "ipython3",
   "version": "3.11.0rc1"
  }
 },
 "nbformat": 4,
 "nbformat_minor": 5
}
