{
 "cells": [
  {
   "cell_type": "markdown",
   "id": "057ed8f6",
   "metadata": {},
   "source": [
    "## LSTM Network Training"
   ]
  },
  {
   "cell_type": "code",
   "execution_count": 14,
   "id": "53a4edc8",
   "metadata": {},
   "outputs": [],
   "source": [
    "import os\n",
    "import warnings\n",
    "import pandas as pd\n",
    "\n",
    "from src.StockPredictionConfig import StockPredictionConfig\n",
    "from src.StockDataProcessor import StockDataProcessor\n",
    "from src.LongShortTermMemory import LSTMModel\n",
    "\n",
    "# Suppress TensorFlow warnings\n",
    "os.environ['TF_CPP_MIN_LOG_LEVEL'] = '3'  # or '3' to suppress all messages\n",
    "\n",
    "# Suppress other warnings\n",
    "warnings.filterwarnings(\"ignore\", category=UserWarning, module=\"tensorflow\")\n",
    "\n",
    "from datetime import timedelta"
   ]
  },
  {
   "cell_type": "code",
   "execution_count": null,
   "id": "61f7e07e",
   "metadata": {},
   "outputs": [],
   "source": [
    "# FOLDER_PREFIX = \"data/comb/\"\n",
    "# STOCK_START_DATE = pd.to_datetime(\"2017-06-07 15:59:00\")\n",
    "# STOCK_VALIDATION_DATE = pd.to_datetime(\"2024-06-09 09:30:00\")\n",
    "# STOCK_END_DATE = pd.to_datetime(\"2024-06-12 15:59:00\")\n",
    "# TIME_STEPS = 60\n",
    "# PREDICTION_RANGE = 60 # *24"
   ]
  },
  {
   "cell_type": "code",
   "execution_count": 15,
   "id": "0ca23308",
   "metadata": {},
   "outputs": [],
   "source": [
    "# FOLDER_PREFIX = \"data/min/\"\n",
    "# STOCK_START_DATE = pd.to_datetime(\"2024-05-24 09:30:00\")\n",
    "# STOCK_VALIDATION_DATE = pd.to_datetime(\"2024-06-09 09:30:00\")\n",
    "# STOCK_END_DATE = pd.to_datetime(\"2024-06-12 15:59:00\")\n",
    "# TIME_STEPS = 60\n",
    "# PREDICTION_RANGE = 60"
   ]
  },
  {
   "cell_type": "code",
   "execution_count": 16,
   "id": "5a5ce2c3",
   "metadata": {},
   "outputs": [],
   "source": [
    "FOLDER_PREFIX = \"data/day/\"\n",
    "STOCK_START_DATE = pd.to_datetime(\"2017-06-07\")\n",
    "STOCK_VALIDATION_DATE = pd.to_datetime(\"2022-06-07\")\n",
    "STOCK_END_DATE = pd.to_datetime(\"2024-06-07\")\n",
    "TIME_STEPS = 1\n",
    "PREDICTION_RANGE = 5"
   ]
  },
  {
   "cell_type": "code",
   "execution_count": 17,
   "id": "adfc2ded",
   "metadata": {},
   "outputs": [],
   "source": [
    "# import secrets\n",
    "# TODAY_RUN = datetime.today().strftime(DATE_FORMAT)\n",
    "# TOKEN = STOCK_TICKER + '_' + TODAY_RUN + '_' + secrets.token_hex(16)"
   ]
  },
  {
   "cell_type": "code",
   "execution_count": 18,
   "id": "ce7e8a3a",
   "metadata": {
    "scrolled": false
   },
   "outputs": [
    {
     "name": "stdout",
     "output_type": "stream",
     "text": [
      "Ticker: GOOG\n",
      "Start Date: 2017-06-07\n",
      "Validation Date: 2022-06-07\n",
      "Test Run Folder: data/day/GOOG/\n"
     ]
    }
   ],
   "source": [
    "DATE_FORMAT = \"%Y-%m-%d\"\n",
    "STOCK_TICKER = \"GOOG\"\n",
    "EPOCHS = 100\n",
    "BATCH_SIZE = 10\n",
    "TOKEN = \"GOOG\"\n",
    "RUN_FOLDER = f\"{FOLDER_PREFIX}{TOKEN}/\"\n",
    "WORK_DIR = os.path.join(os.getcwd(), RUN_FOLDER)\n",
    "CSV_FILE = f\"{WORK_DIR}data.csv\"\n",
    "\n",
    "print('Ticker: ' + STOCK_TICKER)\n",
    "print('Start Date: ' + STOCK_START_DATE.strftime(DATE_FORMAT))\n",
    "print('Validation Date: ' + STOCK_VALIDATION_DATE.strftime(DATE_FORMAT))\n",
    "print('Test Run Folder: ' + RUN_FOLDER)\n",
    "\n",
    "PROJECT_FOLDER = os.path.join(os.getcwd(), RUN_FOLDER)\n",
    "if not os.path.exists(PROJECT_FOLDER):\n",
    "    os.makedirs(PROJECT_FOLDER)"
   ]
  },
  {
   "cell_type": "code",
   "execution_count": 19,
   "id": "e3068309",
   "metadata": {},
   "outputs": [],
   "source": [
    "stock_config = StockPredictionConfig(STOCK_TICKER, \n",
    "                                   STOCK_START_DATE,\n",
    "                                   STOCK_END_DATE,\n",
    "                                   STOCK_VALIDATION_DATE, \n",
    "                                   PROJECT_FOLDER, \n",
    "                                   EPOCHS,\n",
    "                                   TIME_STEPS,\n",
    "                                   TOKEN,\n",
    "                                   BATCH_SIZE)\n"
   ]
  },
  {
   "cell_type": "code",
   "execution_count": 20,
   "id": "66039f2e",
   "metadata": {},
   "outputs": [
    {
     "name": "stdout",
     "output_type": "stream",
     "text": [
      "mean: [0.32731816]\n",
      "max: 0.9999999999999999\n",
      "min: 0.0\n",
      "Std dev: [0.30543526]\n"
     ]
    }
   ],
   "source": [
    "(x_train, y_train), (x_test, y_test), (training_data, test_data) = StockDataProcessor.load_csv_transform_to_numpy(TIME_STEPS, CSV_FILE, STOCK_VALIDATION_DATE)"
   ]
  },
  {
   "cell_type": "code",
   "execution_count": null,
   "id": "4efab5d4",
   "metadata": {},
   "outputs": [],
   "source": [
    "# Execute Deep Learning model\n",
    "lstm = LSTMModel(stock_config.project_folder)\n",
    "lstm.Train(stock_config, x_train, y_train, x_test, y_test, training_data, test_data)"
   ]
  },
  {
   "cell_type": "markdown",
   "id": "32e586ea",
   "metadata": {},
   "source": [
    "## Prediction"
   ]
  },
  {
   "cell_type": "code",
   "execution_count": 21,
   "id": "b787fe91",
   "metadata": {},
   "outputs": [
    {
     "name": "stdout",
     "output_type": "stream",
     "text": [
      "175.9499969482422: latest_close_price\n",
      "2024-06-07: latest_date\n",
      "2024-06-08 00:00:00: start_date\n",
      "2024-06-13 00:00:00: end_date\n"
     ]
    }
   ],
   "source": [
    "data = pd.read_csv(CSV_FILE)\n",
    "\n",
    "latest_close_price = data['Close'].iloc[-1]\n",
    "latest_date = data['Datetime'].iloc[-1]\n",
    "\n",
    "print(f\"{latest_close_price}: latest_close_price\")\n",
    "print(f\"{latest_date}: latest_date\")\n",
    "\n",
    "start_date = pd.to_datetime(latest_date) + timedelta(1)\n",
    "end_date = pd.to_datetime(start_date) + timedelta(PREDICTION_RANGE)\n",
    "\n",
    "print(f\"{start_date}: start_date\")\n",
    "print(f\"{end_date}: end_date\")"
   ]
  },
  {
   "cell_type": "code",
   "execution_count": null,
   "id": "9c92b812",
   "metadata": {},
   "outputs": [],
   "source": [
    "lstm.Infer(start_date, end_date, latest_close_price, WORK_DIR, TIME_STEPS, STOCK_TICKER, stock_config.CURRENCY)"
   ]
  },
  {
   "cell_type": "code",
   "execution_count": 12,
   "id": "6232eac2",
   "metadata": {},
   "outputs": [],
   "source": [
    "from datetime import datetime\n",
    "def calc_date_range(start_date: datetime, \n",
    "                    end_date: datetime) -> list[datetime]:\n",
    "    \"\"\"\n",
    "    Calculates a list of dates between the start and end dates.\n",
    "\n",
    "    Args:\n",
    "        start_date: The start date.\n",
    "        end_date: The end date.\n",
    "\n",
    "    Returns:\n",
    "        list[datetime]: A list of dates between the start and end dates.\n",
    "    \"\"\"\n",
    "\n",
    "    is_start_day_is_full_day = True if (start_date.hour == start_date.minute == 0) else False\n",
    "    is_end_day_is_full_day = True if (end_date.hour == end_date.minute == 0) else False\n",
    "    is_day_interval = is_start_day_is_full_day and is_end_day_is_full_day\n",
    "    date_range = []\n",
    "    if (not is_day_interval):\n",
    "        my_range = (end_date - start_date).total_seconds() / 60\n",
    "        for n in range(int(my_range)):\n",
    "            date_range.append(start_date + timedelta(minutes=n))\n",
    "    else:\n",
    "        my_range = (end_date - start_date).days\n",
    "        for n in range(int(my_range)):\n",
    "            date_range.append(start_date + timedelta(days=n))\n",
    "    return date_range"
   ]
  },
  {
   "cell_type": "code",
   "execution_count": 13,
   "id": "98ff8817",
   "metadata": {},
   "outputs": [
    {
     "data": {
      "text/plain": [
       "[Timestamp('2024-06-08 00:00:00'),\n",
       " Timestamp('2024-06-09 00:00:00'),\n",
       " Timestamp('2024-06-10 00:00:00'),\n",
       " Timestamp('2024-06-11 00:00:00'),\n",
       " Timestamp('2024-06-12 00:00:00')]"
      ]
     },
     "execution_count": 13,
     "metadata": {},
     "output_type": "execute_result"
    }
   ],
   "source": [
    "calc_date_range(start_date, end_date)"
   ]
  },
  {
   "cell_type": "code",
   "execution_count": null,
   "id": "2f579bc6",
   "metadata": {},
   "outputs": [],
   "source": []
  }
 ],
 "metadata": {
  "kernelspec": {
   "display_name": "Python 3 (ipykernel)",
   "language": "python",
   "name": "python3"
  },
  "language_info": {
   "codemirror_mode": {
    "name": "ipython",
    "version": 3
   },
   "file_extension": ".py",
   "mimetype": "text/x-python",
   "name": "python",
   "nbconvert_exporter": "python",
   "pygments_lexer": "ipython3",
   "version": "3.11.0rc1"
  }
 },
 "nbformat": 4,
 "nbformat_minor": 5
}
